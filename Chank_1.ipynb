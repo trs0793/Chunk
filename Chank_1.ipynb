{
 "cells": [
  {
   "cell_type": "code",
   "execution_count": 1,
   "id": "deb658b6",
   "metadata": {},
   "outputs": [],
   "source": [
    "import pandas as pd\n",
    "import os\n",
    "import numpy as np"
   ]
  },
  {
   "cell_type": "code",
   "execution_count": null,
   "id": "9f69c83c",
   "metadata": {},
   "outputs": [],
   "source": [
    "e = pd.read_csv('events.csv', chunksize=100000)"
   ]
  },
  {
   "cell_type": "code",
   "execution_count": 2,
   "id": "4e6fd599",
   "metadata": {},
   "outputs": [
    {
     "name": "stdout",
     "output_type": "stream",
     "text": [
      "Размер файла CSV: 7204.71 MB\n"
     ]
    }
   ],
   "source": [
    "# Посмотрим сколько весит первоначальный файл \n",
    "# Путь к файлу CSV\n",
    "file_path = 'events.csv'\n",
    "\n",
    "# Получение размера файла в байтах\n",
    "file_size_bytes = os.path.getsize(file_path)\n",
    "\n",
    "# Преобразование размера файла в мегабайты\n",
    "file_size_mb = file_size_bytes / (1024 * 1024)\n",
    "\n",
    "print(f\"Размер файла CSV: {file_size_mb:.2f} MB\")\n"
   ]
  },
  {
   "cell_type": "code",
   "execution_count": null,
   "id": "562765cc",
   "metadata": {},
   "outputs": [],
   "source": [
    "# создаем пустой датафрейм\n",
    "e_sampled = pd.DataFrame()\n",
    "# создаем определенные преобразование в чанке e, состоящий из 100 000 строк\n",
    "\n",
    "for chunk in e:\n",
    "#     меняем тип данных на to_datetime\n",
    "    chunk['collector_tstamp'] = pd.to_datetime(chunk['collector_tstamp'])\n",
    "#     групируем чанк по дням\n",
    "    details = chunk.groupby(chunk['collector_tstamp'].dt.date)\n",
    "#     создаем пустой датафрейм \n",
    "    sampled_data = pd.DataFrame()\n",
    "    \n",
    "    for _, group in details:\n",
    "#    оставляем только 5% случайных записей для каждого дня   \n",
    "        sampled_group = group.sample(frac=0.05, random_state=42) \n",
    "        # Добавляем семплированные данные в общий DataFrame\n",
    "        sampled_data = pd.concat([sampled_data, sampled_group])\n",
    "#         Добавляем отфильтрованные чанки в новый пустой датафрейм\n",
    "    e_sampled = e_sampled.append(sampled_data, ignore_index=True)"
   ]
  },
  {
   "cell_type": "code",
   "execution_count": null,
   "id": "6a6533aa",
   "metadata": {},
   "outputs": [],
   "source": [
    "# Загружаем файл на диск\n",
    "e_sampled.to_csv('sampled-events.csv', index=False)"
   ]
  },
  {
   "cell_type": "code",
   "execution_count": 3,
   "id": "db0e44a5",
   "metadata": {},
   "outputs": [
    {
     "name": "stdout",
     "output_type": "stream",
     "text": [
      "Размер файла CSV: 358.40 MB\n"
     ]
    }
   ],
   "source": [
    "# Посмотрим сколько весит файл после фильтрации\n",
    "# Путь к файлу CSV\n",
    "file_path = 'sampled-events.csv'\n",
    "\n",
    "# Получение размера файла в байтах\n",
    "file_size_bytes = os.path.getsize(file_path)\n",
    "\n",
    "# Преобразование размера файла в мегабайты\n",
    "file_size_mb = file_size_bytes / (1024 * 1024)\n",
    "\n",
    "print(f\"Размер файла CSV: {file_size_mb:.2f} MB\")\n"
   ]
  }
 ],
 "metadata": {
  "kernelspec": {
   "display_name": "Python 3 (ipykernel)",
   "language": "python",
   "name": "python3"
  },
  "language_info": {
   "codemirror_mode": {
    "name": "ipython",
    "version": 3
   },
   "file_extension": ".py",
   "mimetype": "text/x-python",
   "name": "python",
   "nbconvert_exporter": "python",
   "pygments_lexer": "ipython3",
   "version": "3.9.13"
  }
 },
 "nbformat": 4,
 "nbformat_minor": 5
}
